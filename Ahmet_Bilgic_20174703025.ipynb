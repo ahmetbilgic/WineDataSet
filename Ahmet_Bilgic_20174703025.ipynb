{
 "cells": [
  {
   "cell_type": "markdown",
   "metadata": {},
   "source": [
    "# Wine Datası İçin Tahmin "
   ]
  },
  {
   "cell_type": "markdown",
   "metadata": {},
   "source": [
    "## Kullanılacak Modüllerin İmport Edilmesi"
   ]
  },
  {
   "cell_type": "code",
   "execution_count": 2,
   "metadata": {},
   "outputs": [],
   "source": [
    "import pandas as pd\n",
    "import seaborn as sn\n",
    "from pandas import read_csv\n",
    "from pandas import set_option\n",
    "import matplotlib.pyplot as plt\n",
    "from sklearn.metrics import accuracy_score,precision_score,recall_score,confusion_matrix,f1_score\n",
    "from sklearn.linear_model import LogisticRegression\n",
    "from sklearn.model_selection import train_test_split,GridSearchCV\n",
    "from sklearn.preprocessing import StandardScaler\n",
    "from sklearn.feature_selection import RFE\n",
    "from sklearn.svm import SVC\n",
    "from sklearn.ensemble import VotingClassifier\n",
    "from sklearn.tree import DecisionTreeClassifier"
   ]
  },
  {
   "cell_type": "markdown",
   "metadata": {},
   "source": [
    "## Verinin Okutularak Bölünmesi"
   ]
  },
  {
   "cell_type": "code",
   "execution_count": 3,
   "metadata": {},
   "outputs": [],
   "source": [
    "columnNames= [\"Class\",\"Alcohol\",\"Malic acid\",\"Ash\",\"Alcalinity of ash\",\"Magnesium\",\"Total phenols\",\"Flavanoids\",\"Nonflavanoid phenols\",\"Proanthocyanins\",\"Color intensity\",\"Hue\",\"OD280/OD315 of diluted wines\",\"Proline\"]\n",
    "otherCols=[\"Alcohol\",\"Malic acid\",\"Ash\",\"Alcalinity of ash\",\"Magnesium\",\"Total phenols\",\"Flavanoids\",\"Nonflavanoid phenols\",\"Proanthocyanins\",\"Color intensity\",\"Hue\",\"OD280/OD315 of diluted wines\",\"Proline\"]\n",
    "df = pd.read_csv(\"wine.data\",names =columnNames)\n",
    "X=df[otherCols]\n",
    "Y=df[\"Class\"]\n",
    "x_train,x_test,y_train,y_test=train_test_split(X,Y,test_size=0.3,random_state=1)"
   ]
  },
  {
   "cell_type": "markdown",
   "metadata": {},
   "source": [
    "## Verinin İncelenmesi"
   ]
  },
  {
   "cell_type": "code",
   "execution_count": 4,
   "metadata": {},
   "outputs": [
    {
     "name": "stdout",
     "output_type": "stream",
     "text": [
      "   Class  Alcohol  Malic acid   Ash  Alcalinity of ash  Magnesium  \\\n",
      "0      1    14.23        1.71  2.43               15.6        127   \n",
      "1      1    13.20        1.78  2.14               11.2        100   \n",
      "2      1    13.16        2.36  2.67               18.6        101   \n",
      "3      1    14.37        1.95  2.50               16.8        113   \n",
      "4      1    13.24        2.59  2.87               21.0        118   \n",
      "5      1    14.20        1.76  2.45               15.2        112   \n",
      "6      1    14.39        1.87  2.45               14.6         96   \n",
      "7      1    14.06        2.15  2.61               17.6        121   \n",
      "8      1    14.83        1.64  2.17               14.0         97   \n",
      "9      1    13.86        1.35  2.27               16.0         98   \n",
      "\n",
      "   Total phenols  Flavanoids  Nonflavanoid phenols  Proanthocyanins  \\\n",
      "0           2.80        3.06                  0.28             2.29   \n",
      "1           2.65        2.76                  0.26             1.28   \n",
      "2           2.80        3.24                  0.30             2.81   \n",
      "3           3.85        3.49                  0.24             2.18   \n",
      "4           2.80        2.69                  0.39             1.82   \n",
      "5           3.27        3.39                  0.34             1.97   \n",
      "6           2.50        2.52                  0.30             1.98   \n",
      "7           2.60        2.51                  0.31             1.25   \n",
      "8           2.80        2.98                  0.29             1.98   \n",
      "9           2.98        3.15                  0.22             1.85   \n",
      "\n",
      "   Color intensity   Hue  OD280/OD315 of diluted wines  Proline  \n",
      "0             5.64  1.04                          3.92     1065  \n",
      "1             4.38  1.05                          3.40     1050  \n",
      "2             5.68  1.03                          3.17     1185  \n",
      "3             7.80  0.86                          3.45     1480  \n",
      "4             4.32  1.04                          2.93      735  \n",
      "5             6.75  1.05                          2.85     1450  \n",
      "6             5.25  1.02                          3.58     1290  \n",
      "7             5.05  1.06                          3.58     1295  \n",
      "8             5.20  1.08                          2.85     1045  \n",
      "9             7.22  1.01                          3.55     1045  \n",
      "---------------------------------------------------------------------------------------------------- \n",
      " **************************************************************************************************** \n",
      " ----------------------------------------------------------------------------------------------------\n",
      "Class                           0\n",
      "Alcohol                         0\n",
      "Malic acid                      0\n",
      "Ash                             0\n",
      "Alcalinity of ash               0\n",
      "Magnesium                       0\n",
      "Total phenols                   0\n",
      "Flavanoids                      0\n",
      "Nonflavanoid phenols            0\n",
      "Proanthocyanins                 0\n",
      "Color intensity                 0\n",
      "Hue                             0\n",
      "OD280/OD315 of diluted wines    0\n",
      "Proline                         0\n",
      "dtype: int64\n",
      "---------------------------------------------------------------------------------------------------- \n",
      " **************************************************************************************************** \n",
      " ----------------------------------------------------------------------------------------------------\n",
      "         Class  Alcohol  Malic acid      Ash  Alcalinity of ash  Magnesium  Total phenols  \\\n",
      "count  178.000  178.000     178.000  178.000            178.000    178.000        178.000   \n",
      "mean     1.938   13.001       2.336    2.367             19.495     99.742          2.295   \n",
      "std      0.775    0.812       1.117    0.274              3.340     14.282          0.626   \n",
      "min      1.000   11.030       0.740    1.360             10.600     70.000          0.980   \n",
      "25%      1.000   12.362       1.603    2.210             17.200     88.000          1.742   \n",
      "50%      2.000   13.050       1.865    2.360             19.500     98.000          2.355   \n",
      "75%      3.000   13.678       3.083    2.558             21.500    107.000          2.800   \n",
      "max      3.000   14.830       5.800    3.230             30.000    162.000          3.880   \n",
      "\n",
      "       Flavanoids  Nonflavanoid phenols  Proanthocyanins  Color intensity      Hue  \\\n",
      "count     178.000               178.000          178.000          178.000  178.000   \n",
      "mean        2.029                 0.362            1.591            5.058    0.957   \n",
      "std         0.999                 0.124            0.572            2.318    0.229   \n",
      "min         0.340                 0.130            0.410            1.280    0.480   \n",
      "25%         1.205                 0.270            1.250            3.220    0.782   \n",
      "50%         2.135                 0.340            1.555            4.690    0.965   \n",
      "75%         2.875                 0.438            1.950            6.200    1.120   \n",
      "max         5.080                 0.660            3.580           13.000    1.710   \n",
      "\n",
      "       OD280/OD315 of diluted wines   Proline  \n",
      "count                       178.000   178.000  \n",
      "mean                          2.612   746.893  \n",
      "std                           0.710   314.907  \n",
      "min                           1.270   278.000  \n",
      "25%                           1.938   500.500  \n",
      "50%                           2.780   673.500  \n",
      "75%                           3.170   985.000  \n",
      "max                           4.000  1680.000  \n",
      "---------------------------------------------------------------------------------------------------- \n",
      " **************************************************************************************************** \n",
      " ----------------------------------------------------------------------------------------------------\n",
      "                              Class  Alcohol  Malic acid    Ash  Alcalinity of ash  Magnesium  \\\n",
      "Class                         1.000   -0.328       0.438 -0.050              0.518     -0.209   \n",
      "Alcohol                      -0.328    1.000       0.094  0.212             -0.310      0.271   \n",
      "Malic acid                    0.438    0.094       1.000  0.164              0.289     -0.055   \n",
      "Ash                          -0.050    0.212       0.164  1.000              0.443      0.287   \n",
      "Alcalinity of ash             0.518   -0.310       0.289  0.443              1.000     -0.083   \n",
      "Magnesium                    -0.209    0.271      -0.055  0.287             -0.083      1.000   \n",
      "Total phenols                -0.719    0.289      -0.335  0.129             -0.321      0.214   \n",
      "Flavanoids                   -0.847    0.237      -0.411  0.115             -0.351      0.196   \n",
      "Nonflavanoid phenols          0.489   -0.156       0.293  0.186              0.362     -0.256   \n",
      "Proanthocyanins              -0.499    0.137      -0.221  0.010             -0.197      0.236   \n",
      "Color intensity               0.266    0.546       0.249  0.259              0.019      0.200   \n",
      "Hue                          -0.617   -0.072      -0.561 -0.075             -0.274      0.055   \n",
      "OD280/OD315 of diluted wines -0.788    0.072      -0.369  0.004             -0.277      0.066   \n",
      "Proline                      -0.634    0.644      -0.192  0.224             -0.441      0.393   \n",
      "\n",
      "                              Total phenols  Flavanoids  Nonflavanoid phenols  Proanthocyanins  \\\n",
      "Class                                -0.719      -0.847                 0.489           -0.499   \n",
      "Alcohol                               0.289       0.237                -0.156            0.137   \n",
      "Malic acid                           -0.335      -0.411                 0.293           -0.221   \n",
      "Ash                                   0.129       0.115                 0.186            0.010   \n",
      "Alcalinity of ash                    -0.321      -0.351                 0.362           -0.197   \n",
      "Magnesium                             0.214       0.196                -0.256            0.236   \n",
      "Total phenols                         1.000       0.865                -0.450            0.612   \n",
      "Flavanoids                            0.865       1.000                -0.538            0.653   \n",
      "Nonflavanoid phenols                 -0.450      -0.538                 1.000           -0.366   \n",
      "Proanthocyanins                       0.612       0.653                -0.366            1.000   \n",
      "Color intensity                      -0.055      -0.172                 0.139           -0.025   \n",
      "Hue                                   0.434       0.543                -0.263            0.296   \n",
      "OD280/OD315 of diluted wines          0.700       0.787                -0.503            0.519   \n",
      "Proline                               0.498       0.494                -0.311            0.330   \n",
      "\n",
      "                              Color intensity    Hue  OD280/OD315 of diluted wines  Proline  \n",
      "Class                                   0.266 -0.617                        -0.788   -0.634  \n",
      "Alcohol                                 0.546 -0.072                         0.072    0.644  \n",
      "Malic acid                              0.249 -0.561                        -0.369   -0.192  \n",
      "Ash                                     0.259 -0.075                         0.004    0.224  \n",
      "Alcalinity of ash                       0.019 -0.274                        -0.277   -0.441  \n",
      "Magnesium                               0.200  0.055                         0.066    0.393  \n",
      "Total phenols                          -0.055  0.434                         0.700    0.498  \n",
      "Flavanoids                             -0.172  0.543                         0.787    0.494  \n",
      "Nonflavanoid phenols                    0.139 -0.263                        -0.503   -0.311  \n",
      "Proanthocyanins                        -0.025  0.296                         0.519    0.330  \n",
      "Color intensity                         1.000 -0.522                        -0.429    0.316  \n",
      "Hue                                    -0.522  1.000                         0.565    0.236  \n",
      "OD280/OD315 of diluted wines           -0.429  0.565                         1.000    0.313  \n",
      "Proline                                 0.316  0.236                         0.313    1.000  \n",
      "---------------------------------------------------------------------------------------------------- \n",
      " **************************************************************************************************** \n",
      " ----------------------------------------------------------------------------------------------------\n",
      "---------------------------------------------------------------------------------------------------- \n",
      " **************************************************************************************************** \n",
      " ----------------------------------------------------------------------------------------------------\n"
     ]
    },
    {
     "data": {
      "image/png": "[encoded data removed]",
      "text/plain": [
       "<Figure size 432x288 with 2 Axes>"
      ]
     },
     "metadata": {
      "needs_background": "light"
     },
     "output_type": "display_data"
    },
    {
     "data": {
      "image/png": "[encoded data removed]",
      "text/plain": [
       "<Figure size 864x864 with 16 Axes>"
      ]
     },
     "metadata": {
      "needs_background": "light"
     },
     "output_type": "display_data"
    },
    {
     "name": "stdout",
     "output_type": "stream",
     "text": [
      "---------------------------------------------------------------------------------------------------- \n",
      " **************************************************************************************************** \n",
      " ----------------------------------------------------------------------------------------------------\n"
     ]
    }
   ],
   "source": [
    "#Verimiziz 10 satırını yazdırarak datamızı anlamaya çalışıyoruz\n",
    "peek=df.head(10)\n",
    "print(peek)\n",
    "print(\"-\"*100,\"\\n\",\"*\"*100,\"\\n\",\"-\"*100)\n",
    "\n",
    "#Verimizde eksik veri olup olmadığını kontrol ediyoruz\n",
    "print(df.isnull().sum())\n",
    "print(\"-\"*100,\"\\n\",\"*\"*100,\"\\n\",\"-\"*100)\n",
    "\n",
    "#Verimize biraz göz atıp amacımızı anladıktan sonra verimizi istatistiksel olarak inceliyoruz\n",
    "set_option(\"display.width\",100)\n",
    "set_option(\"precision\",3)\n",
    "description = df.describe()\n",
    "print(description)\n",
    "print(\"-\"*100,\"\\n\",\"*\"*100,\"\\n\",\"-\"*100)\n",
    "\n",
    "#Verimizin kolerasyonlarını inceleyerek yüksek kolerasyonlu değişkenleri tespit etmeye çalışıyoruz\n",
    "set_option(\"display.width\",100)\n",
    "set_option(\"precision\",3)\n",
    "corr = df.corr(method=\"pearson\")\n",
    "print(corr)\n",
    "print(\"-\"*100,\"\\n\",\"*\"*100,\"\\n\",\"-\"*100)\n",
    "sn.heatmap(corr,linewidths=2)\n",
    "print(\"-\"*100,\"\\n\",\"*\"*100,\"\\n\",\"-\"*100)\n",
    "\n",
    "#Verimizi grafikler üzerinden inceleyip daha iyi anlamaya çalışıyoruz\n",
    "df.hist(figsize=(12,12))\n",
    "plt.show()\n",
    "print(\"-\"*100,\"\\n\",\"*\"*100,\"\\n\",\"-\"*100)"
   ]
  },
  {
   "cell_type": "markdown",
   "metadata": {},
   "source": [
    "## Normalizasyon işlemi uyguluyoruz"
   ]
  },
  {
   "cell_type": "code",
   "execution_count": 5,
   "metadata": {},
   "outputs": [],
   "source": [
    "normalizasyon = StandardScaler()\n",
    "X_train_std = normalizasyon.fit_transform(x_train)\n",
    "X_test_std=normalizasyon.transform(x_test)"
   ]
  },
  {
   "cell_type": "markdown",
   "metadata": {},
   "source": [
    "## Logistic Regression Modelini kuruyoruz"
   ]
  },
  {
   "cell_type": "code",
   "execution_count": 6,
   "metadata": {},
   "outputs": [],
   "source": [
    "LogisticRegModel = LogisticRegression(max_iter =3000).fit(X_train_std,y_train)\n",
    "LogisticRegTahmin=LogisticRegModel.predict(X_test_std)\n",
    "LogisticRegTahmin2 =LogisticRegModel.predict(X_train_std)\n"
   ]
  },
  {
   "cell_type": "markdown",
   "metadata": {},
   "source": [
    "## Modelimizin Skorunu Öğreniyoruz"
   ]
  },
  {
   "cell_type": "code",
   "execution_count": 7,
   "metadata": {},
   "outputs": [
    {
     "name": "stdout",
     "output_type": "stream",
     "text": [
      "Test verilerine göre :\n",
      "Doğruluk : 1.0\n",
      "Precision: 1.0\n",
      "Recall : 1.0\n",
      "F1 Puanı : 1.0\n",
      "\n",
      "\n",
      "Sınıflandırma Tablosu : \n",
      " [[23  0  0]\n",
      " [ 0 19  0]\n",
      " [ 0  0 12]]\n",
      "Sınıflandırma Tablosu : \n",
      " [[36  0  0]\n",
      " [ 0 52  0]\n",
      " [ 0  0 36]]\n"
     ]
    }
   ],
   "source": [
    "print(\"Test verilerine göre :\")\n",
    "print(\"Doğruluk : \"+str(accuracy_score(y_test,LogisticRegTahmin)))\n",
    "print(\"Precision: \"+str(precision_score(y_test, LogisticRegTahmin, average = 'weighted')))\n",
    "print(\"Recall : \"+str(recall_score(y_test,LogisticRegTahmin, average = \"macro\")))                             \n",
    "print(\"F1 Puanı : \"+str(f1_score(y_test,LogisticRegTahmin, average = 'weighted')))                                        \n",
    "print(\"\\n\")\n",
    "print(\"Sınıflandırma Tablosu : \\n \"+str(confusion_matrix(y_test,LogisticRegTahmin)))\n",
    "print(\"Sınıflandırma Tablosu : \\n \"+str(confusion_matrix(y_train,LogisticRegTahmin2)))\n"
   ]
  },
  {
   "cell_type": "markdown",
   "metadata": {},
   "source": [
    "## Makina Öğrenmesi için en verimli öznitelik seçmesi yapıyoruz"
   ]
  },
  {
   "cell_type": "code",
   "execution_count": 8,
   "metadata": {},
   "outputs": [],
   "source": [
    "rfe=RFE(LogisticRegModel,5)\n",
    "fit=rfe.fit(X,Y)\n",
    "x_train_2 = rfe.transform(x_train)\n",
    "x_test_2 = rfe.transform(x_test)\n",
    "LogModelWithRFE =  LogisticRegression(max_iter =3000).fit(x_train_2, y_train)"
   ]
  },
  {
   "cell_type": "markdown",
   "metadata": {},
   "source": [
    "## Seçtiğimiz özniteliklerin sonucuna bakıyoruz "
   ]
  },
  {
   "cell_type": "code",
   "execution_count": 9,
   "metadata": {},
   "outputs": [
    {
     "name": "stdout",
     "output_type": "stream",
     "text": [
      "Test verilerine göre :\n",
      "Doğruluk : 0.9814814814814815\n",
      "Precision: 0.9824074074074074\n",
      "Recall : 0.9722222222222222\n",
      "F1 Puanı : 0.981316321896032\n",
      "\n",
      "\n",
      "Test Sınıflandırma Tablosu : \n",
      " [[23  0  0]\n",
      " [ 0 19  0]\n",
      " [ 0  1 11]]\n",
      "Eğitim Sınıflandırma Tablosu : \n",
      " [[33  3  0]\n",
      " [ 4 47  1]\n",
      " [ 0  0 36]]\n"
     ]
    }
   ],
   "source": [
    "LogisticRegTahmin =LogModelWithRFE.predict(x_test_2)\n",
    "LogisticRegTahmin2 =LogModelWithRFE.predict(x_train_2)\n",
    "print(\"Test verilerine göre :\")\n",
    "print(\"Doğruluk : \"+str(accuracy_score(y_test,LogisticRegTahmin)))\n",
    "print(\"Precision: \"+str(precision_score(y_test, LogisticRegTahmin, average = 'weighted')))\n",
    "print(\"Recall : \"+str(recall_score(y_test,LogisticRegTahmin, average = \"macro\")))                             \n",
    "print(\"F1 Puanı : \"+str(f1_score(y_test,LogisticRegTahmin, average = 'weighted')))                                        \n",
    "print(\"\\n\")\n",
    "print(\"Test Sınıflandırma Tablosu : \\n \"+str(confusion_matrix(y_test,LogisticRegTahmin)))\n",
    "print(\"Eğitim Sınıflandırma Tablosu : \\n \"+str(confusion_matrix(y_train,LogisticRegTahmin2)))"
   ]
  },
  {
   "cell_type": "markdown",
   "metadata": {},
   "source": [
    "## Öznitelikler seçildikten sonra daha iyi bir sonuç üretebilmek için modelimizi optimize ediyoruz"
   ]
  },
  {
   "cell_type": "code",
   "execution_count": 10,
   "metadata": {},
   "outputs": [
    {
     "name": "stdout",
     "output_type": "stream",
     "text": [
      "Fitting 10 folds for each of 10 candidates, totalling 100 fits\n"
     ]
    },
    {
     "name": "stderr",
     "output_type": "stream",
     "text": [
      "[Parallel(n_jobs=1)]: Using backend SequentialBackend with 1 concurrent workers.\n"
     ]
    },
    {
     "name": "stdout",
     "output_type": "stream",
     "text": [
      "{'C': 0.05}\n"
     ]
    },
    {
     "name": "stderr",
     "output_type": "stream",
     "text": [
      "[Parallel(n_jobs=1)]: Done 100 out of 100 | elapsed:    0.6s finished\n"
     ]
    }
   ],
   "source": [
    "grid_degerleri = {\"C\":[0.0001,0.009,0.01,0.05,0.09,1,5,10,25,100]}\n",
    "LogModelGrid=LogisticRegression(max_iter =3000)\n",
    "grid_model=GridSearchCV(LogModelGrid,param_grid=grid_degerleri,cv=10,verbose=1)\n",
    "grid_model.fit(X_train_std,y_train)\n",
    "print(grid_model.best_params_)"
   ]
  },
  {
   "cell_type": "markdown",
   "metadata": {},
   "source": [
    "## Optimize edilmiş modelimizi test ediyoruz"
   ]
  },
  {
   "cell_type": "code",
   "execution_count": 11,
   "metadata": {},
   "outputs": [
    {
     "name": "stdout",
     "output_type": "stream",
     "text": [
      "Test verilerine göre :\n",
      "Doğruluk : 0.9814814814814815\n",
      "Precision: 0.9822530864197532\n",
      "Recall : 0.9824561403508771\n",
      "F1 Puanı : 0.9814282367473858\n",
      "\n",
      "\n",
      "Test Sınıflandırma Tablosu : \n",
      " [[23  0  0]\n",
      " [ 1 18  0]\n",
      " [ 0  0 12]]\n",
      "Eğitim Sınıflandırma Tablosu : \n",
      " [[36  0  0]\n",
      " [ 0 51  1]\n",
      " [ 0  0 36]]\n"
     ]
    }
   ],
   "source": [
    "y_pred_LogReg=grid_model.predict(X_test_std)\n",
    "y_pred_train_LogReg=grid_model.predict(X_train_std)\n",
    "print(\"Test verilerine göre :\")\n",
    "print(\"Doğruluk : \"+str(accuracy_score(y_test,y_pred_LogReg)))\n",
    "print(\"Precision: \"+str(precision_score(y_test, y_pred_LogReg, average = 'weighted')))\n",
    "print(\"Recall : \"+str(recall_score(y_test,y_pred_LogReg, average = \"macro\")))                             \n",
    "print(\"F1 Puanı : \"+str(f1_score(y_test,y_pred_LogReg, average = 'weighted')))                                        \n",
    "print(\"\\n\")\n",
    "print(\"Test Sınıflandırma Tablosu : \\n \"+str(confusion_matrix(y_test,y_pred_LogReg)))\n",
    "print(\"Eğitim Sınıflandırma Tablosu : \\n \"+str(confusion_matrix(y_train,y_pred_train_LogReg)))"
   ]
  },
  {
   "cell_type": "markdown",
   "metadata": {},
   "source": [
    "## Support Vector Machine (SVM) Modelini kuruyoruz"
   ]
  },
  {
   "cell_type": "code",
   "execution_count": 12,
   "metadata": {},
   "outputs": [],
   "source": [
    "svcClassifier=SVC(kernel =\"linear\",random_state=0).fit(X_train_std,y_train)\n"
   ]
  },
  {
   "cell_type": "markdown",
   "metadata": {},
   "source": [
    "## SVM modelimizin sonuçlarını inceliyoruz"
   ]
  },
  {
   "cell_type": "code",
   "execution_count": 13,
   "metadata": {},
   "outputs": [
    {
     "name": "stdout",
     "output_type": "stream",
     "text": [
      "Test verilerine göre :\n",
      "Doğruluk : 0.9814814814814815\n",
      "Precision: 0.9824074074074074\n",
      "Recall : 0.9722222222222222\n",
      "F1 Puanı : 0.981316321896032\n",
      "\n",
      "\n",
      "Test Sınıflandırma Tablosu : \n",
      " [[23  0  0]\n",
      " [ 0 19  0]\n",
      " [ 0  1 11]]\n",
      "Eğitim Sınıflandırma Tablosu : \n",
      " [[36  0  0]\n",
      " [ 0 52  0]\n",
      " [ 0  0 36]]\n"
     ]
    }
   ],
   "source": [
    "y_pred_svc=svcClassifier.predict(X_test_std)\n",
    "y_pred_train_svc=svcClassifier.predict(X_train_std)\n",
    "print(\"Test verilerine göre :\")\n",
    "print(\"Doğruluk : \"+str(accuracy_score(y_test,y_pred_svc)))\n",
    "print(\"Precision: \"+str(precision_score(y_test, y_pred_svc, average = 'weighted')))\n",
    "print(\"Recall : \"+str(recall_score(y_test,y_pred_svc, average = \"macro\")))                             \n",
    "print(\"F1 Puanı : \"+str(f1_score(y_test,y_pred_svc, average = 'weighted')))                                        \n",
    "print(\"\\n\")\n",
    "print(\"Test Sınıflandırma Tablosu : \\n \"+str(confusion_matrix(y_test,y_pred_svc)))\n",
    "print(\"Eğitim Sınıflandırma Tablosu : \\n \"+str(confusion_matrix(y_train,y_pred_train_svc)))"
   ]
  },
  {
   "cell_type": "markdown",
   "metadata": {},
   "source": [
    "## En iyi öznitelikleri seçiyoruz"
   ]
  },
  {
   "cell_type": "code",
   "execution_count": 14,
   "metadata": {},
   "outputs": [],
   "source": [
    "rfe=RFE(svcClassifier,4)\n",
    "fit=rfe.fit(X,Y)\n",
    "x_train_2 = rfe.transform(x_train)\n",
    "x_test_2 = rfe.transform(x_test)\n",
    "svcWithRFE=  svcClassifier.fit(x_train_2, y_train)"
   ]
  },
  {
   "cell_type": "markdown",
   "metadata": {},
   "source": [
    "## Seçtiğimiz özniteliklerin sonuçlarına bakıyoruz"
   ]
  },
  {
   "cell_type": "code",
   "execution_count": 15,
   "metadata": {},
   "outputs": [
    {
     "name": "stdout",
     "output_type": "stream",
     "text": [
      "Test verilerine göre :\n",
      "Doğruluk : 0.9629629629629629\n",
      "Precision: 0.9651590693257361\n",
      "Recall : 0.9649122807017544\n",
      "F1 Puanı : 0.9625015322651257\n",
      "\n",
      "\n",
      "Test Sınıflandırma Tablosu : \n",
      " [[23  0  0]\n",
      " [ 1 17  1]\n",
      " [ 0  0 12]]\n",
      "Eğitim Sınıflandırma Tablosu : \n",
      " [[34  2  0]\n",
      " [ 5 46  1]\n",
      " [ 0  1 35]]\n"
     ]
    }
   ],
   "source": [
    "svcpred=svcWithRFE.predict(x_test_2)\n",
    "svcpred2 =svcWithRFE.predict(x_train_2)\n",
    "print(\"Test verilerine göre :\")\n",
    "print(\"Doğruluk : \"+str(accuracy_score(y_test,svcpred)))\n",
    "print(\"Precision: \"+str(precision_score(y_test, svcpred, average = 'weighted')))\n",
    "print(\"Recall : \"+str(recall_score(y_test,svcpred, average = \"macro\")))                             \n",
    "print(\"F1 Puanı : \"+str(f1_score(y_test,svcpred, average = 'weighted')))                                        \n",
    "print(\"\\n\")\n",
    "print(\"Test Sınıflandırma Tablosu : \\n \"+str(confusion_matrix(y_test,svcpred)))\n",
    "print(\"Eğitim Sınıflandırma Tablosu : \\n \"+str(confusion_matrix(y_train,svcpred2)))"
   ]
  },
  {
   "cell_type": "markdown",
   "metadata": {},
   "source": [
    "## Yeni öznitelikli modelimizi optimize ediyoruz"
   ]
  },
  {
   "cell_type": "code",
   "execution_count": 16,
   "metadata": {},
   "outputs": [
    {
     "name": "stdout",
     "output_type": "stream",
     "text": [
      "Fitting 10 folds for each of 133 candidates, totalling 1330 fits\n"
     ]
    },
    {
     "name": "stderr",
     "output_type": "stream",
     "text": [
      "[Parallel(n_jobs=-1)]: Using backend LokyBackend with 4 concurrent workers.\n",
      "[Parallel(n_jobs=-1)]: Done  95 tasks      | elapsed:    1.0s\n",
      "[Parallel(n_jobs=-1)]: Done 1323 out of 1330 | elapsed:    1.7s remaining:    0.0s\n",
      "[Parallel(n_jobs=-1)]: Done 1330 out of 1330 | elapsed:    1.7s finished\n"
     ]
    }
   ],
   "source": [
    "optisvc=SVC()\n",
    "param_range=[0.0001,0.001,0.01,0.1,1,10,20]\n",
    "parameters=[{'C':param_range,\"kernel\":[\"linear\"]},\n",
    "            {'C':param_range,\"kernel\":[\"rbf\"],\"gamma\":[0.1,0.2,0.4,0.5,0.7,0.9]},\n",
    "            {'C':param_range,\"kernel\":[\"poly\"],\"degree\":[2,3],\"gamma\":[0.1,0.2,0.4,0.5,0.7,0.9]}]\n",
    "grid_search=GridSearchCV(optisvc,\n",
    "                        param_grid=parameters,\n",
    "                        scoring='accuracy',\n",
    "                        cv=10,verbose=1,\n",
    "                        n_jobs=-1)\n",
    "           \n",
    "grid_search=grid_search.fit(X_train_std,y_train)\n",
    "          "
   ]
  },
  {
   "cell_type": "markdown",
   "metadata": {},
   "source": [
    "## Optimize edilmiş modelimizi test ediyoruz"
   ]
  },
  {
   "cell_type": "code",
   "execution_count": 17,
   "metadata": {},
   "outputs": [
    {
     "name": "stdout",
     "output_type": "stream",
     "text": [
      "Test verilerine göre :\n",
      "Doğruluk : 1.0\n",
      "Precision: 1.0\n",
      "Recall : 1.0\n",
      "F1 Puanı : 1.0\n",
      "\n",
      "\n",
      "Test Sınıflandırma Tablosu : \n",
      " [[23  0  0]\n",
      " [ 0 19  0]\n",
      " [ 0  0 12]]\n",
      "Eğitim Sınıflandırma Tablosu : \n",
      " [[36  0  0]\n",
      " [ 0 51  1]\n",
      " [ 0  0 36]]\n"
     ]
    }
   ],
   "source": [
    "y_pred_svc=grid_search.predict(X_test_std)\n",
    "y_pred_train_svc=grid_search.predict(X_train_std)\n",
    "print(\"Test verilerine göre :\")\n",
    "print(\"Doğruluk : \"+str(accuracy_score(y_test,y_pred_svc)))\n",
    "print(\"Precision: \"+str(precision_score(y_test, y_pred_svc, average = 'weighted')))\n",
    "print(\"Recall : \"+str(recall_score(y_test,y_pred_svc, average = \"macro\")))                             \n",
    "print(\"F1 Puanı : \"+str(f1_score(y_test,y_pred_svc, average = 'weighted')))                                        \n",
    "print(\"\\n\")\n",
    "print(\"Test Sınıflandırma Tablosu : \\n \"+str(confusion_matrix(y_test,y_pred_svc)))\n",
    "print(\"Eğitim Sınıflandırma Tablosu : \\n \"+str(confusion_matrix(y_train,y_pred_train_svc)))"
   ]
  },
  {
   "cell_type": "markdown",
   "metadata": {},
   "source": [
    "## Karar ağaçları modelimizi kuruyoruz"
   ]
  },
  {
   "cell_type": "code",
   "execution_count": 18,
   "metadata": {},
   "outputs": [
    {
     "data": {
      "text/plain": [
       "DecisionTreeClassifier(ccp_alpha=0.0, class_weight=None, criterion='gini',\n",
       "                       max_depth=None, max_features=None, max_leaf_nodes=None,\n",
       "                       min_impurity_decrease=0.0, min_impurity_split=None,\n",
       "                       min_samples_leaf=1, min_samples_split=2,\n",
       "                       min_weight_fraction_leaf=0.0, presort='deprecated',\n",
       "                       random_state=None, splitter='best')"
      ]
     },
     "execution_count": 18,
     "metadata": {},
     "output_type": "execute_result"
    }
   ],
   "source": [
    "dect=DecisionTreeClassifier()\n",
    "dect.fit(x_train,y_train)"
   ]
  },
  {
   "cell_type": "markdown",
   "metadata": {},
   "source": [
    "## Karar ağacı modelimizin başarısını ölçüyoruz"
   ]
  },
  {
   "cell_type": "code",
   "execution_count": 19,
   "metadata": {},
   "outputs": [
    {
     "name": "stdout",
     "output_type": "stream",
     "text": [
      "Test verilerine göre :\n",
      "Doğruluk : 0.9629629629629629\n",
      "Precision: 0.9643874643874645\n",
      "Recall : 0.9679633867276888\n",
      "F1 Puanı : 0.9631275720164609\n",
      "\n",
      "\n",
      "Test Sınıflandırma Tablosu : \n",
      " [[22  1  0]\n",
      " [ 0 18  1]\n",
      " [ 0  0 12]]\n",
      "Eğitim Sınıflandırma Tablosu : \n",
      " [[36  0  0]\n",
      " [ 0 52  0]\n",
      " [ 0  0 36]]\n"
     ]
    }
   ],
   "source": [
    "y_pred_dect=dect.predict(x_test)\n",
    "y_pred_train_dect=dect.predict(x_train)\n",
    "print(\"Test verilerine göre :\")\n",
    "print(\"Doğruluk : \"+str(accuracy_score(y_test,y_pred_dect)))\n",
    "print(\"Precision: \"+str(precision_score(y_test, y_pred_dect, average = 'weighted')))\n",
    "print(\"Recall : \"+str(recall_score(y_test,y_pred_dect, average = \"macro\")))                             \n",
    "print(\"F1 Puanı : \"+str(f1_score(y_test,y_pred_dect, average = 'weighted')))                                        \n",
    "print(\"\\n\")\n",
    "print(\"Test Sınıflandırma Tablosu : \\n \"+str(confusion_matrix(y_test,y_pred_dect)))\n",
    "print(\"Eğitim Sınıflandırma Tablosu : \\n \"+str(confusion_matrix(y_train,y_pred_train_dect)))"
   ]
  },
  {
   "cell_type": "markdown",
   "metadata": {},
   "source": [
    "## En iyi öznitelikleri bulmaya çalışıyoruz"
   ]
  },
  {
   "cell_type": "code",
   "execution_count": 20,
   "metadata": {},
   "outputs": [],
   "source": [
    "rfe=RFE(dect,7)\n",
    "fit=rfe.fit(X,Y)\n",
    "x_train_2 = rfe.transform(x_train)\n",
    "x_test_2 = rfe.transform(x_test)\n",
    "dectWithRFE=  dect.fit(x_train_2, y_train)"
   ]
  },
  {
   "cell_type": "markdown",
   "metadata": {},
   "source": [
    "## Seçtiğimiz özniteliklerin sonuçlarına bakıyoruz"
   ]
  },
  {
   "cell_type": "code",
   "execution_count": 21,
   "metadata": {},
   "outputs": [
    {
     "name": "stdout",
     "output_type": "stream",
     "text": [
      "Test verilerine göre :\n",
      "Doğruluk : 0.9259259259259259\n",
      "Precision: 0.9277461221905666\n",
      "Recall : 0.9226417493007881\n",
      "F1 Puanı : 0.9262862862862862\n",
      "\n",
      "\n",
      "Test Sınıflandırma Tablosu : \n",
      " [[22  0  1]\n",
      " [ 1 17  1]\n",
      " [ 0  1 11]]\n",
      "Eğitim Sınıflandırma Tablosu : \n",
      " [[36  0  0]\n",
      " [ 0 52  0]\n",
      " [ 0  0 36]]\n"
     ]
    }
   ],
   "source": [
    "dectpred=dectWithRFE.predict(x_test_2)\n",
    "dectpred2 =dectWithRFE.predict(x_train_2)\n",
    "print(\"Test verilerine göre :\")\n",
    "print(\"Doğruluk : \"+str(accuracy_score(y_test,dectpred)))\n",
    "print(\"Precision: \"+str(precision_score(y_test, dectpred, average = 'weighted')))\n",
    "print(\"Recall : \"+str(recall_score(y_test,dectpred, average = \"macro\")))                             \n",
    "print(\"F1 Puanı : \"+str(f1_score(y_test,dectpred, average = 'weighted')))                                        \n",
    "print(\"\\n\")\n",
    "print(\"Test Sınıflandırma Tablosu : \\n \"+str(confusion_matrix(y_test,dectpred)))\n",
    "print(\"Eğitim Sınıflandırma Tablosu : \\n \"+str(confusion_matrix(y_train,dectpred2)))"
   ]
  },
  {
   "cell_type": "markdown",
   "metadata": {},
   "source": [
    "## Modelimizi optimize ediyoruz"
   ]
  },
  {
   "cell_type": "code",
   "execution_count": 22,
   "metadata": {},
   "outputs": [
    {
     "name": "stdout",
     "output_type": "stream",
     "text": [
      "Fitting 10 folds for each of 28 candidates, totalling 280 fits\n"
     ]
    },
    {
     "name": "stderr",
     "output_type": "stream",
     "text": [
      "[Parallel(n_jobs=-1)]: Using backend LokyBackend with 4 concurrent workers.\n",
      "[Parallel(n_jobs=-1)]: Done 235 tasks      | elapsed:    0.2s\n",
      "[Parallel(n_jobs=-1)]: Done 280 out of 280 | elapsed:    0.3s finished\n"
     ]
    },
    {
     "data": {
      "text/plain": [
       "GridSearchCV(cv=10, error_score=nan,\n",
       "             estimator=DecisionTreeClassifier(ccp_alpha=0.0, class_weight=None,\n",
       "                                              criterion='gini', max_depth=None,\n",
       "                                              max_features=None,\n",
       "                                              max_leaf_nodes=None,\n",
       "                                              min_impurity_decrease=0.0,\n",
       "                                              min_impurity_split=None,\n",
       "                                              min_samples_leaf=1,\n",
       "                                              min_samples_split=2,\n",
       "                                              min_weight_fraction_leaf=0.0,\n",
       "                                              presort='deprecated',\n",
       "                                              random_state=None,\n",
       "                                              splitter='best'),\n",
       "             iid='deprecated', n_jobs=-1,\n",
       "             param_grid={'criterion': ['gini', 'entropy'],\n",
       "                         'max_depth': [1, 2, 3, 4, 5, 6, 7, 9, 12, 15, 17, 20,\n",
       "                                       25, 30]},\n",
       "             pre_dispatch='2*n_jobs', refit=True, return_train_score=False,\n",
       "             scoring=None, verbose=1)"
      ]
     },
     "execution_count": 22,
     "metadata": {},
     "output_type": "execute_result"
    }
   ],
   "source": [
    "kriter=[\"gini\",\"entropy\"]\n",
    "derinlik=[1,2,3,4,5,6,7,9,12,15,17,20,25,30]\n",
    "parametre=dict(criterion = kriter,max_depth=derinlik)\n",
    "optidect= GridSearchCV(estimator=dect,cv=10,param_grid=parametre,n_jobs=-1,verbose=1)\n",
    "optidect.fit(x_train,y_train)"
   ]
  },
  {
   "cell_type": "markdown",
   "metadata": {},
   "source": [
    "## Optimize edilmiş verimizi test ediyoruz"
   ]
  },
  {
   "cell_type": "code",
   "execution_count": 23,
   "metadata": {},
   "outputs": [
    {
     "name": "stdout",
     "output_type": "stream",
     "text": [
      "Test verilerine göre :\n",
      "Doğruluk : 0.9629629629629629\n",
      "Precision: 0.9643874643874645\n",
      "Recall : 0.9679633867276888\n",
      "F1 Puanı : 0.9631275720164609\n",
      "\n",
      "\n",
      "Test Sınıflandırma Tablosu : \n",
      " [[22  1  0]\n",
      " [ 0 18  1]\n",
      " [ 0  0 12]]\n",
      "Eğitim Sınıflandırma Tablosu : \n",
      " [[36  0  0]\n",
      " [ 0 52  0]\n",
      " [ 0  0 36]]\n"
     ]
    }
   ],
   "source": [
    "dectpred=optidect.predict(x_test)\n",
    "dectpred2 =optidect.predict(x_train)\n",
    "print(\"Test verilerine göre :\")\n",
    "print(\"Doğruluk : \"+str(accuracy_score(y_test,dectpred)))\n",
    "print(\"Precision: \"+str(precision_score(y_test, dectpred, average = 'weighted')))\n",
    "print(\"Recall : \"+str(recall_score(y_test,dectpred, average = \"macro\")))                             \n",
    "print(\"F1 Puanı : \"+str(f1_score(y_test,dectpred, average = 'weighted')))                                        \n",
    "print(\"\\n\")\n",
    "print(\"Test Sınıflandırma Tablosu : \\n \"+str(confusion_matrix(y_test,dectpred)))\n",
    "print(\"Eğitim Sınıflandırma Tablosu : \\n \"+str(confusion_matrix(y_train,dectpred2)))"
   ]
  },
  {
   "cell_type": "code",
   "execution_count": null,
   "metadata": {},
   "outputs": [],
   "source": []
  },
  {
   "cell_type": "code",
   "execution_count": 37,
   "metadata": {},
   "outputs": [
    {
     "name": "stdout",
     "output_type": "stream",
     "text": [
      "Test verisi sonucu :0.9629629629629629\n",
      "Eğitim Test verisi sonucu :1.0\n",
      "Normalize edilmiş Test verisi sonucu :1.0\n",
      "Normalize edilmiş Eğitim Test verisi sonucu :1.0\n"
     ]
    },
    {
     "name": "stderr",
     "output_type": "stream",
     "text": [
      "D:\\Anaconda\\lib\\site-packages\\sklearn\\linear_model\\_logistic.py:940: ConvergenceWarning: lbfgs failed to converge (status=1):\n",
      "STOP: TOTAL NO. of ITERATIONS REACHED LIMIT.\n",
      "\n",
      "Increase the number of iterations (max_iter) or scale the data as shown in:\n",
      "    https://scikit-learn.org/stable/modules/preprocessing.html\n",
      "Please also refer to the documentation for alternative solver options:\n",
      "    https://scikit-learn.org/stable/modules/linear_model.html#logistic-regression\n",
      "  extra_warning_msg=_LOGISTIC_SOLVER_CONVERGENCE_MSG)\n"
     ]
    }
   ],
   "source": [
    "model1=SVC()\n",
    "model2=LogisticRegression(max_iter=3000)\n",
    "model3=DecisionTreeClassifier()\n",
    "\n",
    "\n",
    "\n",
    "oylama_modeli= VotingClassifier(estimators=[(\"SVC\",model1),(\"Logistic_Regression\",model2),\n",
    "                                           (\"Tree\",model3)],voting=\"hard\")\n",
    "\n",
    "oylama_modeli.fit(x_train,y_train)\n",
    "y_pred=oylama_modeli.predict(x_test)\n",
    "print(\"Test verisi sonucu :\"+str(accuracy_score(y_pred,y_test)))\n",
    "\n",
    "y_pred2=oylama_modeli.predict(x_train)\n",
    "print(\"Eğitim Test verisi sonucu :\"+str(accuracy_score(y_pred2,y_train)))\n",
    "\n",
    "\n",
    "oylama_modeli.fit(X_train_std,y_train)\n",
    "y_pred1=oylama_modeli.predict(X_test_std)\n",
    "print(\"Normalize edilmiş Test verisi sonucu :\"+str(accuracy_score(y_pred1,y_test)))\n",
    "\n",
    "y_pred3=oylama_modeli.predict(X_train_std)\n",
    "print(\"Normalize edilmiş Eğitim Test verisi sonucu :\"+str(accuracy_score(y_pred3,y_train)))\n"
   ]
  },
  {
   "cell_type": "code",
   "execution_count": 36,
   "metadata": {},
   "outputs": [
    {
     "name": "stdout",
     "output_type": "stream",
     "text": [
      "Test Sınıflandırma Tablosu : \n",
      " [[23  0  0]\n",
      " [ 1 18  0]\n",
      " [ 0  1 11]]\n",
      "Normalizasyonlu Test Sınıflandırma Tablosu : \n",
      " [[23  0  0]\n",
      " [ 0 19  0]\n",
      " [ 0  0 12]]\n",
      "Eğitim Sınıflandırma Tablosu : \n",
      " [[36  0  0]\n",
      " [ 0 52  0]\n",
      " [ 0  0 36]]\n",
      "Normalizasyonlu Eğitim Sınıflandırma Tablosu : \n",
      " [[36  0  0]\n",
      " [ 0 52  0]\n",
      " [ 0  0 36]]\n"
     ]
    }
   ],
   "source": [
    "print(\"Test Sınıflandırma Tablosu : \\n \"+str(confusion_matrix(y_test,y_pred)))\n",
    "print(\"Normalizasyonlu Test Sınıflandırma Tablosu : \\n \"+str(confusion_matrix(y_test,y_pred1)))\n",
    "print(\"Eğitim Sınıflandırma Tablosu : \\n \"+str(confusion_matrix(y_train,y_pred2)))\n",
    "print(\"Normalizasyonlu Eğitim Sınıflandırma Tablosu : \\n \"+str(confusion_matrix(y_train,y_pred3)))"
   ]
  },
  {
   "cell_type": "code",
   "execution_count": null,
   "metadata": {},
   "outputs": [],
   "source": []
  },
  {
   "cell_type": "code",
   "execution_count": null,
   "metadata": {},
   "outputs": [],
   "source": []
  }
 ],
 "metadata": {
  "kernelspec": {
   "display_name": "Python 3",
   "language": "python",
   "name": "python3"
  },
  "language_info": {
   "codemirror_mode": {
    "name": "ipython",
    "version": 3
   },
   "file_extension": ".py",
   "mimetype": "text/x-python",
   "name": "python",
   "nbconvert_exporter": "python",
   "pygments_lexer": "ipython3",
   "version": "3.7.6"
  }
 },
 "nbformat": 4,
 "nbformat_minor": 4
}
